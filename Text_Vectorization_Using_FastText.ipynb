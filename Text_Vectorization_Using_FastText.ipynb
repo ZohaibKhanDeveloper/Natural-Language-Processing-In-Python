{
  "nbformat": 4,
  "nbformat_minor": 0,
  "metadata": {
    "colab": {
      "provenance": []
    },
    "kernelspec": {
      "name": "python3",
      "display_name": "Python 3"
    },
    "language_info": {
      "name": "python"
    }
  },
  "cells": [
    {
      "cell_type": "code",
      "source": [
        "import fasttext"
      ],
      "metadata": {
        "id": "oYsGMsymIUlV"
      },
      "execution_count": 28,
      "outputs": []
    },
    {
      "cell_type": "code",
      "source": [
        "model_en = fasttext.load_model('cc.en.300.bin')"
      ],
      "metadata": {
        "id": "GA4lWY2uEact"
      },
      "execution_count": 8,
      "outputs": []
    },
    {
      "cell_type": "code",
      "source": [
        "text = \"\"\"\n",
        "  With the advent of the printing press in the 16th and 17th centuries, numerous books were written on managing households and preparing food. In Holland[14] and England[15] competition grew between the noble families as to who could prepare the most lavish banquet. By the 1660s, cookery had progressed to an art form, and good cooks were in demand. Many of them published their own books, detailing their recipes in competition with their rivals.[16] Many of these books have been translated and are available online.[17]\n",
        "\n",
        "By the 19th century, the Victorian preoccupation for domestic respectability brought about the emergence of cookery writing in its modern form. Although eclipsed in fame and regard by Isabella Beeton, the first modern cookery writer and compiler of recipes for the home was Eliza Acton. Her pioneering cookbook, Modern Cookery for Private Families published in 1845, was aimed at the domestic reader rather than the professional cook or chef. This was immensely influential, establishing the format for modern writing about cookery. It introduced the now-universal practice of listing the ingredients and suggested cooking times with each recipe. It included the first recipe for Brussels sprouts.[18] Contemporary chef Delia Smith called Acton \"the best writer of recipes in the English language.\"[19] Modern Cookery long survived Acton, remaining in print until 1914 and available more recently in facsimile.\n",
        "\"\"\""
      ],
      "metadata": {
        "id": "ckqFbmYkJ_L6"
      },
      "execution_count": 34,
      "outputs": []
    },
    {
      "cell_type": "code",
      "source": [
        "text"
      ],
      "metadata": {
        "colab": {
          "base_uri": "https://localhost:8080/",
          "height": 212
        },
        "id": "5urxKyIyKCk3",
        "outputId": "08861e83-5754-4ead-e30b-e82d3806519e"
      },
      "execution_count": 35,
      "outputs": [
        {
          "output_type": "execute_result",
          "data": {
            "text/plain": [
              "'\\n  With the advent of the printing press in the 16th and 17th centuries, numerous books were written on managing households and preparing food. In Holland[14] and England[15] competition grew between the noble families as to who could prepare the most lavish banquet. By the 1660s, cookery had progressed to an art form, and good cooks were in demand. Many of them published their own books, detailing their recipes in competition with their rivals.[16] Many of these books have been translated and are available online.[17]\\n\\nBy the 19th century, the Victorian preoccupation for domestic respectability brought about the emergence of cookery writing in its modern form. Although eclipsed in fame and regard by Isabella Beeton, the first modern cookery writer and compiler of recipes for the home was Eliza Acton. Her pioneering cookbook, Modern Cookery for Private Families published in 1845, was aimed at the domestic reader rather than the professional cook or chef. This was immensely influential, establishing the format for modern writing about cookery. It introduced the now-universal practice of listing the ingredients and suggested cooking times with each recipe. It included the first recipe for Brussels sprouts.[18] Contemporary chef Delia Smith called Acton \"the best writer of recipes in the English language.\"[19] Modern Cookery long survived Acton, remaining in print until 1914 and available more recently in facsimile. \\n'"
            ],
            "application/vnd.google.colaboratory.intrinsic+json": {
              "type": "string"
            }
          },
          "metadata": {},
          "execution_count": 35
        }
      ]
    },
    {
      "cell_type": "code",
      "source": [
        "import re\n",
        "def preprocess(text):\n",
        "  text = re.sub(r'[^\\w\\s]',' ',text)\n",
        "  text = re.sub(r'[ \\n]+',' ',text)\n",
        "  return text.strip().lower()"
      ],
      "metadata": {
        "id": "wxJM_dRBKDRM"
      },
      "execution_count": 36,
      "outputs": []
    },
    {
      "cell_type": "code",
      "source": [
        "len(text)"
      ],
      "metadata": {
        "colab": {
          "base_uri": "https://localhost:8080/"
        },
        "id": "931pX7uuKgWS",
        "outputId": "a40b9ae3-ec81-4917-9aef-3f81bc23916c"
      },
      "execution_count": 37,
      "outputs": [
        {
          "output_type": "execute_result",
          "data": {
            "text/plain": [
              "1438"
            ]
          },
          "metadata": {},
          "execution_count": 37
        }
      ]
    },
    {
      "cell_type": "code",
      "source": [
        "text = preprocess(text)"
      ],
      "metadata": {
        "id": "JKlWK0XqKlJw"
      },
      "execution_count": 38,
      "outputs": []
    },
    {
      "cell_type": "code",
      "source": [
        "len(text)"
      ],
      "metadata": {
        "colab": {
          "base_uri": "https://localhost:8080/"
        },
        "id": "smDw4F3BKrHd",
        "outputId": "3113f420-a3c0-4084-d8df-7b9a00703fe3"
      },
      "execution_count": 40,
      "outputs": [
        {
          "output_type": "execute_result",
          "data": {
            "text/plain": [
              "1401"
            ]
          },
          "metadata": {},
          "execution_count": 40
        }
      ]
    },
    {
      "cell_type": "code",
      "source": [
        "with open('data.txt','w') as file:\n",
        "  file.write(text)"
      ],
      "metadata": {
        "id": "jVDyeWDRKr2T"
      },
      "execution_count": 43,
      "outputs": []
    },
    {
      "cell_type": "code",
      "source": [
        "model = fasttext.train_unsupervised(\"data.txt\")"
      ],
      "metadata": {
        "id": "g2vzbQhFK_T4"
      },
      "execution_count": 44,
      "outputs": []
    },
    {
      "cell_type": "code",
      "source": [
        "model"
      ],
      "metadata": {
        "colab": {
          "base_uri": "https://localhost:8080/"
        },
        "id": "9ui8R4_aMGJ9",
        "outputId": "373da183-a867-4196-9f2a-a6c1c3a67967"
      },
      "execution_count": 45,
      "outputs": [
        {
          "output_type": "execute_result",
          "data": {
            "text/plain": [
              "<fasttext.FastText._FastText at 0x7f5fc35e2b70>"
            ]
          },
          "metadata": {},
          "execution_count": 45
        }
      ]
    },
    {
      "cell_type": "code",
      "source": [
        "model.get_nearest_neighbors(\"recipie\")"
      ],
      "metadata": {
        "colab": {
          "base_uri": "https://localhost:8080/"
        },
        "id": "HrxShkXIMHWH",
        "outputId": "38e4f168-b21f-4d41-ac44-489dedc01513"
      },
      "execution_count": 46,
      "outputs": [
        {
          "output_type": "execute_result",
          "data": {
            "text/plain": [
              "[(0.15020669996738434, 'in'),\n",
              " (0.09664840251207352, 'the'),\n",
              " (0.09192991256713867, 'cookery'),\n",
              " (0.023915966972708702, 'for'),\n",
              " (0.021208155900239944, 'and'),\n",
              " (0.004667278379201889, 'modern'),\n",
              " (-0.07791130989789963, 'of')]"
            ]
          },
          "metadata": {},
          "execution_count": 46
        }
      ]
    },
    {
      "cell_type": "code",
      "source": [
        "recipie_vector = model.get_word_vector(\"recipie\")"
      ],
      "metadata": {
        "id": "-Ejgc4ARMMPD"
      },
      "execution_count": 48,
      "outputs": []
    },
    {
      "cell_type": "code",
      "source": [
        "recipie_vector"
      ],
      "metadata": {
        "colab": {
          "base_uri": "https://localhost:8080/"
        },
        "id": "11mxP0e8Msit",
        "outputId": "2e165877-e632-4b36-c469-63ee7e00230a"
      },
      "execution_count": 49,
      "outputs": [
        {
          "output_type": "execute_result",
          "data": {
            "text/plain": [
              "array([-4.64538374e-04, -2.93971621e-04, -2.50644429e-04, -6.17155340e-04,\n",
              "        4.11800982e-04, -4.79387905e-04, -5.83903166e-05,  6.33373915e-04,\n",
              "        5.84679248e-04, -3.63441359e-04,  1.44549180e-04, -5.52112702e-04,\n",
              "        4.46896069e-04, -1.92745109e-04, -1.82320917e-04,  5.16476401e-04,\n",
              "        1.76708836e-05,  6.91182286e-05, -7.69475242e-04,  6.11297583e-05,\n",
              "        6.71522575e-05, -2.10005837e-05,  7.58829643e-04,  7.34604837e-05,\n",
              "       -2.34392724e-06,  5.27922646e-04, -5.50928344e-05,  1.98078851e-04,\n",
              "        4.13662754e-04, -2.44086375e-04, -1.23489353e-05, -7.33495472e-05,\n",
              "        1.64580575e-04,  5.56817278e-04, -7.14765396e-04, -1.17927666e-04,\n",
              "       -2.72312289e-04,  2.28326928e-04,  2.63629909e-06, -7.84582153e-05,\n",
              "        6.36510551e-04, -2.47067073e-04,  4.87146492e-04, -2.62696733e-04,\n",
              "        7.80425558e-04, -3.44561733e-04,  1.78223600e-05, -2.07849065e-04,\n",
              "       -3.99885408e-04,  2.33901752e-04, -1.15300805e-04,  4.32335451e-04,\n",
              "       -8.04966257e-05,  7.62640208e-04,  2.36826323e-04, -1.57237708e-04,\n",
              "       -4.98470094e-04, -3.36324942e-04,  4.76585083e-05,  2.17727735e-04,\n",
              "       -2.59704422e-04, -2.09552236e-04,  3.87208624e-04,  7.35357753e-04,\n",
              "       -8.26622054e-05,  2.02703959e-04, -3.84892424e-04,  1.28725311e-04,\n",
              "        8.04826617e-04,  1.37589115e-04,  2.36855030e-05,  6.69115514e-04,\n",
              "        2.79470347e-04,  1.07833635e-04, -5.43094066e-04,  1.13448586e-04,\n",
              "        8.24516173e-04,  3.38737707e-04,  5.16803295e-04,  1.87229729e-04,\n",
              "       -2.82964087e-04,  3.83824081e-04, -5.55985433e-04,  2.87858693e-05,\n",
              "        6.82696176e-04, -5.51016361e-04, -6.76031224e-04, -5.51408331e-04,\n",
              "       -3.54766613e-04,  1.39365229e-05, -4.83057724e-04,  1.52913388e-04,\n",
              "        6.17289508e-04, -4.45288955e-04,  3.09799798e-04,  1.40759745e-04,\n",
              "       -1.33813388e-04, -2.75297789e-04, -1.55902351e-04, -3.41775558e-06],\n",
              "      dtype=float32)"
            ]
          },
          "metadata": {},
          "execution_count": 49
        }
      ]
    },
    {
      "cell_type": "code",
      "source": [
        "recipie_vector.shape"
      ],
      "metadata": {
        "colab": {
          "base_uri": "https://localhost:8080/"
        },
        "id": "o5EFsiH-Mzh2",
        "outputId": "8b925086-925c-4216-a186-f06b9dee5dcd"
      },
      "execution_count": 50,
      "outputs": [
        {
          "output_type": "execute_result",
          "data": {
            "text/plain": [
              "(100,)"
            ]
          },
          "metadata": {},
          "execution_count": 50
        }
      ]
    },
    {
      "cell_type": "code",
      "source": [],
      "metadata": {
        "id": "jkJz4B0nM1CR"
      },
      "execution_count": null,
      "outputs": []
    }
  ]
}