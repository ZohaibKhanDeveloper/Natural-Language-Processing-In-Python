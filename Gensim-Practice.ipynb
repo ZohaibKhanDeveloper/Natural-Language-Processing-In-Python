{
 "cells": [
  {
   "cell_type": "markdown",
   "id": "747b65b5-3843-4344-8c8c-9bc4a415aa57",
   "metadata": {},
   "source": [
    "<h2>Gensim Practice Code File</h2>"
   ]
  },
  {
   "cell_type": "code",
   "execution_count": 1,
   "id": "c01cc0f9-5b9c-4d08-87eb-f9ba28fd5117",
   "metadata": {},
   "outputs": [],
   "source": [
    "import gensim.downloader as api"
   ]
  },
  {
   "cell_type": "code",
   "execution_count": 2,
   "id": "5115cce2-143f-49da-8c83-ab7306844b36",
   "metadata": {},
   "outputs": [
    {
     "name": "stdout",
     "output_type": "stream",
     "text": [
      "[==================================================] 100.0% 104.8/104.8MB downloaded\n"
     ]
    }
   ],
   "source": [
    "wv = api.load(\"glove-twitter-25\")"
   ]
  },
  {
   "cell_type": "code",
   "execution_count": 3,
   "id": "e70297f5-8f80-4b7f-9355-268aca778373",
   "metadata": {},
   "outputs": [
    {
     "data": {
      "text/plain": [
       "<gensim.models.keyedvectors.KeyedVectors at 0x1a6a23fdfd0>"
      ]
     },
     "execution_count": 3,
     "metadata": {},
     "output_type": "execute_result"
    }
   ],
   "source": [
    "wv"
   ]
  },
  {
   "cell_type": "code",
   "execution_count": 4,
   "id": "1fc226d5-ea4a-4f63-8862-631ece12f0bd",
   "metadata": {},
   "outputs": [
    {
     "data": {
      "text/plain": [
       "np.float32(0.8915661)"
      ]
     },
     "execution_count": 4,
     "metadata": {},
     "output_type": "execute_result"
    }
   ],
   "source": [
    "wv.similarity(w1=\"great\",w2=\"well\")"
   ]
  },
  {
   "cell_type": "code",
   "execution_count": 5,
   "id": "127b52fe-5eb8-45dd-8181-be0e7fbbe2a8",
   "metadata": {},
   "outputs": [
    {
     "data": {
      "text/plain": [
       "[('too', 0.9648017287254333),\n",
       " ('day', 0.9533665180206299),\n",
       " ('well', 0.9503170847892761),\n",
       " ('nice', 0.9438973665237427),\n",
       " ('better', 0.9425962567329407),\n",
       " ('fun', 0.9418926239013672),\n",
       " ('much', 0.9413353800773621),\n",
       " ('this', 0.9387555122375488),\n",
       " ('hope', 0.9383506774902344),\n",
       " ('great', 0.9378516674041748)]"
      ]
     },
     "execution_count": 5,
     "metadata": {},
     "output_type": "execute_result"
    }
   ],
   "source": [
    "wv.most_similar(\"good\")"
   ]
  },
  {
   "cell_type": "code",
   "execution_count": 6,
   "id": "1a9adc34-d3b4-4f9d-8178-14ddaf4a975b",
   "metadata": {},
   "outputs": [
    {
     "data": {
      "text/plain": [
       "[('frankfurt', 0.8528209924697876),\n",
       " ('hamburg', 0.8513832092285156),\n",
       " ('deutschland', 0.8492450714111328),\n",
       " ('münchen', 0.8251250982284546),\n",
       " ('düsseldorf', 0.8218944668769836),\n",
       " ('hannover', 0.8195232152938843),\n",
       " ('köln', 0.8042037487030029),\n",
       " ('bremen', 0.797916054725647),\n",
       " ('olympia', 0.7926302552223206),\n",
       " ('wien', 0.7905245423316956)]"
      ]
     },
     "execution_count": 6,
     "metadata": {},
     "output_type": "execute_result"
    }
   ],
   "source": [
    "wv.most_similar(positive=[\"france\",\"berlin\"],negative=[\"paris\"])"
   ]
  },
  {
   "cell_type": "code",
   "execution_count": 7,
   "id": "321b77f5-f786-4985-b30c-b89dfed502bf",
   "metadata": {},
   "outputs": [
    {
     "data": {
      "text/plain": [
       "[('meets', 0.8841923475265503),\n",
       " ('prince', 0.832163393497467),\n",
       " ('queen', 0.8257461190223694),\n",
       " ('’s', 0.8174097537994385),\n",
       " ('crow', 0.813499391078949),\n",
       " ('hunter', 0.8131037950515747),\n",
       " ('father', 0.8115833401679993),\n",
       " ('soldier', 0.81113600730896),\n",
       " ('mercy', 0.8082392811775208),\n",
       " ('hero', 0.8082262277603149)]"
      ]
     },
     "execution_count": 7,
     "metadata": {},
     "output_type": "execute_result"
    }
   ],
   "source": [
    "wv.most_similar(positive=[\"king\",\"woman\"],negative=[\"man\"])"
   ]
  },
  {
   "cell_type": "code",
   "execution_count": 8,
   "id": "2997c1ef-cc70-4f8e-b20a-862ef6488ab2",
   "metadata": {},
   "outputs": [
    {
     "data": {
      "text/plain": [
       "'cat'"
      ]
     },
     "execution_count": 8,
     "metadata": {},
     "output_type": "execute_result"
    }
   ],
   "source": [
    "wv.doesnt_match([\"facebook\",\"cat\",\"google\",\"microsoft\"])"
   ]
  },
  {
   "cell_type": "code",
   "execution_count": 9,
   "id": "3cc1b39f-8e07-4e9a-8108-172ae128ec5e",
   "metadata": {},
   "outputs": [
    {
     "data": {
      "text/plain": [
       "'microsoft'"
      ]
     },
     "execution_count": 9,
     "metadata": {},
     "output_type": "execute_result"
    }
   ],
   "source": [
    "wv.doesnt_match([\"dog\",\"cat\",\"puppy\",\"microsoft\"])"
   ]
  },
  {
   "cell_type": "code",
   "execution_count": null,
   "id": "87a7480d-a1ef-4f13-b706-c45d95c7b5b9",
   "metadata": {},
   "outputs": [],
   "source": []
  }
 ],
 "metadata": {
  "kernelspec": {
   "display_name": "Python 3 (ipykernel)",
   "language": "python",
   "name": "python3"
  },
  "language_info": {
   "codemirror_mode": {
    "name": "ipython",
    "version": 3
   },
   "file_extension": ".py",
   "mimetype": "text/x-python",
   "name": "python",
   "nbconvert_exporter": "python",
   "pygments_lexer": "ipython3",
   "version": "3.11.9"
  }
 },
 "nbformat": 4,
 "nbformat_minor": 5
}
