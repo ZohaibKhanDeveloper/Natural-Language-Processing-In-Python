{
  "cells": [
    {
      "cell_type": "markdown",
      "source": [
        "<h2>Model Training and Testing in Fast Text</h2>"
      ],
      "metadata": {
        "id": "gyPWe05xzGV9"
      }
    },
    {
      "cell_type": "code",
      "source": [
        "import fasttext"
      ],
      "metadata": {
        "id": "4lKuOYkGzWMK"
      },
      "execution_count": 3,
      "outputs": []
    },
    {
      "cell_type": "code",
      "source": [
        "model = fasttext.train_supervised(input=\"ecommerce.train\")"
      ],
      "metadata": {
        "id": "LBjMDC56zxGs"
      },
      "execution_count": 4,
      "outputs": []
    },
    {
      "cell_type": "code",
      "source": [
        "model.test(\"ecommerce.test\")"
      ],
      "metadata": {
        "id": "VGsZYXtnz2_d",
        "outputId": "36610bbf-2683-4d78-bf11-8abe552470e5",
        "colab": {
          "base_uri": "https://localhost:8080/"
        }
      },
      "execution_count": 6,
      "outputs": [
        {
          "output_type": "execute_result",
          "data": {
            "text/plain": [
              "(4800, 0.973125, 0.973125)"
            ]
          },
          "metadata": {},
          "execution_count": 6
        }
      ]
    },
    {
      "cell_type": "code",
      "source": [],
      "metadata": {
        "id": "85CLQlzR0Y9W"
      },
      "execution_count": null,
      "outputs": []
    }
  ],
  "metadata": {
    "colab": {
      "name": "Welcome To Colab",
      "provenance": []
    },
    "kernelspec": {
      "display_name": "Python 3",
      "name": "python3"
    }
  },
  "nbformat": 4,
  "nbformat_minor": 0
}