{
 "cells": [
  {
   "cell_type": "markdown",
   "id": "9a1b586d-4fe3-4c94-ac09-e61431114f38",
   "metadata": {},
   "source": [
    "<h2>Fast Text Practice</h2>"
   ]
  },
  {
   "cell_type": "code",
   "execution_count": null,
   "id": "9c676a99-2e16-4c2c-9037-e55452c3c162",
   "metadata": {},
   "outputs": [],
   "source": [
    "import fasttext"
   ]
  },
  {
   "cell_type": "code",
   "execution_count": null,
   "id": "0bbd0372-09d5-48ec-9c26-03d48926bdaa",
   "metadata": {},
   "outputs": [],
   "source": [
    "model_en = fasttext.load('cc.en.300.bin')"
   ]
  },
  {
   "cell_type": "code",
   "execution_count": null,
   "id": "cd3acd33-5aa4-4505-9b54-8832a89efe3e",
   "metadata": {},
   "outputs": [],
   "source": [
    "model_en.get_nearest_neighbors(\"good\")"
   ]
  },
  {
   "cell_type": "code",
   "execution_count": null,
   "id": "c8274ff4-aabf-409d-9e85-b9d50ee28a24",
   "metadata": {},
   "outputs": [],
   "source": [
    "model_en.get_word_vector(\"good\")"
   ]
  },
  {
   "cell_type": "code",
   "execution_count": null,
   "id": "61953ef6-e748-4b96-becb-8d2ddf0e81bb",
   "metadata": {},
   "outputs": [],
   "source": [
    "model_en.get_word_vector(\"good\").shape"
   ]
  },
  {
   "cell_type": "code",
   "execution_count": null,
   "id": "e6b68ab9-3d24-499c-866c-a448e86febb9",
   "metadata": {},
   "outputs": [],
   "source": [
    "model_en.get_analogies(\"berlin\",\"germany\",\"india\")"
   ]
  },
  {
   "cell_type": "code",
   "execution_count": null,
   "id": "7f9baaf9-d5ff-470b-8638-beaa8c602c4e",
   "metadata": {},
   "outputs": [],
   "source": [
    "model_en.get_analogies(\"driving\",\"car\",\"book\")"
   ]
  },
  {
   "cell_type": "code",
   "execution_count": null,
   "id": "2eeae7cb-18c0-40e0-8dfa-a496973383b8",
   "metadata": {},
   "outputs": [],
   "source": [
    "model_en.get_nearest_nieghbors(\"saragava\",k=3)"
   ]
  }
 ],
 "metadata": {
  "kernelspec": {
   "display_name": "Python 3 (ipykernel)",
   "language": "python",
   "name": "python3"
  },
  "language_info": {
   "codemirror_mode": {
    "name": "ipython",
    "version": 3
   },
   "file_extension": ".py",
   "mimetype": "text/x-python",
   "name": "python",
   "nbconvert_exporter": "python",
   "pygments_lexer": "ipython3",
   "version": "3.11.9"
  }
 },
 "nbformat": 4,
 "nbformat_minor": 5
}
