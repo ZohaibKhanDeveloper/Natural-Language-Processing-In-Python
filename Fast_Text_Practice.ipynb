{
  "cells": [
    {
      "cell_type": "code",
      "execution_count": 2,
      "metadata": {
        "colab": {
          "base_uri": "https://localhost:8080/",
          "height": 35
        },
        "id": "MMP-pNCENmhI",
        "outputId": "53986ce6-daa0-422a-b5db-9d2c8cf73f1d"
      },
      "outputs": [
        {
          "output_type": "execute_result",
          "data": {
            "text/plain": [
              "'cc.en.300.bin'"
            ],
            "application/vnd.google.colaboratory.intrinsic+json": {
              "type": "string"
            }
          },
          "metadata": {},
          "execution_count": 2
        }
      ],
      "source": [
        "import fasttext\n",
        "import fasttext.util\n",
        "fasttext.util.download_model('en', if_exists='ignore')"
      ]
    },
    {
      "cell_type": "code",
      "execution_count": 3,
      "metadata": {
        "id": "7Ys-YpmOOvKQ"
      },
      "outputs": [],
      "source": [
        "model_en = fasttext.load_model('cc.en.300.bin')"
      ]
    },
    {
      "cell_type": "code",
      "source": [
        "model_en.get_nearest_neighbors(\"good\")"
      ],
      "metadata": {
        "colab": {
          "base_uri": "https://localhost:8080/"
        },
        "id": "0LVXxv0RdaRD",
        "outputId": "1886eb05-8bd3-41f0-ebfd-c994015992f4"
      },
      "execution_count": 4,
      "outputs": [
        {
          "output_type": "execute_result",
          "data": {
            "text/plain": [
              "[(0.7517593502998352, 'bad'),\n",
              " (0.7426098585128784, 'great'),\n",
              " (0.7299689054489136, 'decent'),\n",
              " (0.7123614549636841, 'nice'),\n",
              " (0.6796907186508179, 'Good'),\n",
              " (0.6737031936645508, 'excellent'),\n",
              " (0.669592022895813, 'goood'),\n",
              " (0.6602178812026978, 'ggod'),\n",
              " (0.6479219794273376, 'semi-good'),\n",
              " (0.6417751908302307, 'good.Good')]"
            ]
          },
          "metadata": {},
          "execution_count": 4
        }
      ]
    },
    {
      "cell_type": "code",
      "source": [
        "model_en.get_analogies(\"berlin\",\"germany\",\"india\")"
      ],
      "metadata": {
        "colab": {
          "base_uri": "https://localhost:8080/"
        },
        "id": "bm7nQeShd80O",
        "outputId": "fcac72e7-5523-4240-b38e-af6af2676e3a"
      },
      "execution_count": 5,
      "outputs": [
        {
          "output_type": "execute_result",
          "data": {
            "text/plain": [
              "[(0.7148876190185547, 'delhi'),\n",
              " (0.6974374055862427, 'mumbai'),\n",
              " (0.648612916469574, 'jaipur'),\n",
              " (0.6349966526031494, 'kolkata'),\n",
              " (0.6279922723770142, 'pune'),\n",
              " (0.6277596354484558, 'bangalore'),\n",
              " (0.6044078469276428, 'hyderabad'),\n",
              " (0.6021745800971985, 'noida'),\n",
              " (0.6018899083137512, 'bhubaneswar'),\n",
              " (0.599077582359314, 'nashik')]"
            ]
          },
          "metadata": {},
          "execution_count": 5
        }
      ]
    },
    {
      "cell_type": "code",
      "source": [
        "model_en.get_analogies(\"driving\",\"car\",\"book\")"
      ],
      "metadata": {
        "colab": {
          "base_uri": "https://localhost:8080/"
        },
        "id": "uDvXhQF2ejCJ",
        "outputId": "8116cba0-bfe2-4b3d-92d9-120eddf18460"
      },
      "execution_count": 6,
      "outputs": [
        {
          "output_type": "execute_result",
          "data": {
            "text/plain": [
              "[(0.5302355885505676, 'reading'),\n",
              " (0.517051637172699, 'book.I'),\n",
              " (0.5137901306152344, 'book--and'),\n",
              " (0.5090512633323669, 'book.That'),\n",
              " (0.5005884766578674, 'book--it'),\n",
              " (0.49395182728767395, 'book--I'),\n",
              " (0.49293914437294006, 're-reading'),\n",
              " (0.49156999588012695, 'book.This'),\n",
              " (0.49107635021209717, 'reading--and'),\n",
              " (0.48960915207862854, 'book--the')]"
            ]
          },
          "metadata": {},
          "execution_count": 6
        }
      ]
    },
    {
      "cell_type": "code",
      "source": [
        "model_en.get_nearest_neighbors(\"saravaga\",k=5)"
      ],
      "metadata": {
        "colab": {
          "base_uri": "https://localhost:8080/"
        },
        "id": "gSsEKrBoepZ_",
        "outputId": "5cb9752c-b199-4183-d4f0-2f97905ac66d"
      },
      "execution_count": 7,
      "outputs": [
        {
          "output_type": "execute_result",
          "data": {
            "text/plain": [
              "[(0.37482520937919617, 'ANNE-CHRISTINE'),\n",
              " (0.3716959059238434, 'saravana'),\n",
              " (0.365610808134079, 'saravanan'),\n",
              " (0.36471250653266907,\n",
              "  'noon1.00pm2.00pm3.00pm4.00pm5.00pm6.00pm7.00pm8.00pm9.00pm10.00pm11.00pmTrending'),\n",
              " (0.3631482720375061, 'e18d2c0b0bcab2923220ae8e5c23dac6')]"
            ]
          },
          "metadata": {},
          "execution_count": 7
        }
      ]
    },
    {
      "cell_type": "code",
      "source": [],
      "metadata": {
        "id": "eBSDqPvZeum3"
      },
      "execution_count": null,
      "outputs": []
    }
  ],
  "metadata": {
    "colab": {
      "provenance": []
    },
    "kernelspec": {
      "display_name": "Python 3",
      "name": "python3"
    },
    "language_info": {
      "name": "python"
    }
  },
  "nbformat": 4,
  "nbformat_minor": 0
}